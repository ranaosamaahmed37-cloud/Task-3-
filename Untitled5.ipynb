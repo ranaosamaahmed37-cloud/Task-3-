{
  "nbformat": 4,
  "nbformat_minor": 0,
  "metadata": {
    "colab": {
      "provenance": [],
      "authorship_tag": "ABX9TyOex5mUC8zVDbXP9o7suE0L",
      "include_colab_link": true
    },
    "kernelspec": {
      "name": "python3",
      "display_name": "Python 3"
    },
    "language_info": {
      "name": "python"
    }
  },
  "cells": [
    {
      "cell_type": "markdown",
      "metadata": {
        "id": "view-in-github",
        "colab_type": "text"
      },
      "source": [
        "<a href=\"https://colab.research.google.com/github/ranaosamaahmed37-cloud/Task-3-/blob/main/Untitled5.ipynb\" target=\"_parent\"><img src=\"https://colab.research.google.com/assets/colab-badge.svg\" alt=\"Open In Colab\"/></a>"
      ]
    },
    {
      "cell_type": "code",
      "execution_count": 1,
      "metadata": {
        "colab": {
          "base_uri": "https://localhost:8080/"
        },
        "id": "0TlLrPasj7dg",
        "outputId": "8eee813d-a920-4c5e-c62d-b94955551046"
      },
      "outputs": [
        {
          "output_type": "stream",
          "name": "stdout",
          "text": [
            "Manual Mean: 20.5\n",
            "NumPy Mean: 20.5\n"
          ]
        }
      ],
      "source": [
        "import numpy as np\n",
        "\n",
        "ages = [18, 21, 20, 19, 22, 23, 20, 21, 22, 19]\n",
        "\n",
        "# Manual mean\n",
        "mean_manual = sum(ages) / len(ages)\n",
        "print(\"Manual Mean:\", mean_manual)\n",
        "\n",
        "# NumPy mean\n",
        "mean_numpy = np.mean(ages)\n",
        "print(\"NumPy Mean:\", mean_numpy)\n"
      ]
    },
    {
      "cell_type": "code",
      "source": [
        "import random\n",
        "import numpy as np\n",
        "\n",
        "# Generate 15 random integers between 10 and 50\n",
        "numbers = [random.randint(10, 50) for _ in range(15)]\n",
        "print(\"Numbers:\", numbers)\n",
        "\n",
        "# Manual median\n",
        "sorted_numbers = sorted(numbers)\n",
        "n = len(sorted_numbers)\n",
        "if n % 2 == 1:\n",
        "    median_manual = sorted_numbers[n // 2]\n",
        "else:\n",
        "    median_manual = (sorted_numbers[n // 2 - 1] + sorted_numbers[n // 2]) / 2\n",
        "print(\"Manual Median:\", median_manual)\n",
        "\n",
        "# NumPy median\n",
        "median_numpy = np.median(numbers)\n",
        "print(\"NumPy Median:\", median_numpy)\n"
      ],
      "metadata": {
        "colab": {
          "base_uri": "https://localhost:8080/"
        },
        "id": "6ux3tWqXkABg",
        "outputId": "ce4bf913-071e-445e-d1b9-dfd497c93357"
      },
      "execution_count": 2,
      "outputs": [
        {
          "output_type": "stream",
          "name": "stdout",
          "text": [
            "Numbers: [21, 13, 29, 43, 35, 42, 30, 20, 12, 42, 13, 47, 44, 22, 27]\n",
            "Manual Median: 29\n",
            "NumPy Median: 29.0\n"
          ]
        }
      ]
    },
    {
      "cell_type": "code",
      "source": [
        "import numpy as np\n",
        "import random\n",
        "\n",
        "numbers = [random.randint(10, 50) for _ in range(15)]\n",
        "print(\"Numbers:\", numbers)\n",
        "\n",
        "# Manual\n",
        "min_manual = min(numbers)\n",
        "max_manual = max(numbers)\n",
        "range_manual = max_manual - min_manual\n",
        "\n",
        "print(\"Manual Min:\", min_manual)\n",
        "print(\"Manual Max:\", max_manual)\n",
        "print(\"Manual Range:\", range_manual)\n",
        "\n",
        "# NumPy\n",
        "print(\"NumPy Min:\", np.min(numbers))\n",
        "print(\"NumPy Max:\", np.max(numbers))\n",
        "print(\"NumPy Range:\", np.ptp(numbers))\n"
      ],
      "metadata": {
        "colab": {
          "base_uri": "https://localhost:8080/"
        },
        "id": "NknU7NlMkEqR",
        "outputId": "f79862df-b8b7-45a9-8382-6f1ea2a6d637"
      },
      "execution_count": 3,
      "outputs": [
        {
          "output_type": "stream",
          "name": "stdout",
          "text": [
            "Numbers: [15, 12, 48, 25, 40, 34, 49, 24, 39, 49, 17, 19, 14, 18, 49]\n",
            "Manual Min: 12\n",
            "Manual Max: 49\n",
            "Manual Range: 37\n",
            "NumPy Min: 12\n",
            "NumPy Max: 49\n",
            "NumPy Range: 37\n"
          ]
        }
      ]
    },
    {
      "cell_type": "code",
      "source": [
        "import numpy as np\n",
        "\n",
        "data = [5, 7, 3, 7, 9, 10, 15, 7]\n",
        "\n",
        "# Manual\n",
        "mean_data = sum(data) / len(data)\n",
        "variance_manual = sum((x - mean_data) ** 2 for x in data) / len(data)\n",
        "std_manual = variance_manual ** 0.5\n",
        "\n",
        "print(\"Manual Variance:\", variance_manual)\n",
        "print(\"Manual Std Dev:\", std_manual)\n",
        "\n",
        "# NumPy\n",
        "print(\"NumPy Variance:\", np.var(data))\n",
        "print(\"NumPy Std Dev:\", np.std(data))\n"
      ],
      "metadata": {
        "colab": {
          "base_uri": "https://localhost:8080/"
        },
        "id": "uXOyPUQakF7Q",
        "outputId": "bde96872-ee17-40f1-9731-ff6868516e29"
      },
      "execution_count": 4,
      "outputs": [
        {
          "output_type": "stream",
          "name": "stdout",
          "text": [
            "Manual Variance: 11.359375\n",
            "Manual Std Dev: 3.370367190678191\n",
            "NumPy Variance: 11.359375\n",
            "NumPy Std Dev: 3.370367190678191\n"
          ]
        }
      ]
    },
    {
      "cell_type": "code",
      "source": [
        "import numpy as np\n",
        "\n",
        "data = [5, 7, 3, 7, 9, 10, 15, 7]\n",
        "\n",
        "Q1 = np.percentile(data, 25)\n",
        "Q2 = np.percentile(data, 50)\n",
        "Q3 = np.percentile(data, 75)\n",
        "IQR = Q3 - Q1\n",
        "\n",
        "print(\"Q1:\", Q1)\n",
        "print(\"Q2 (Median):\", Q2)\n",
        "print(\"Q3:\", Q3)\n",
        "print(\"IQR:\", IQR)\n"
      ],
      "metadata": {
        "colab": {
          "base_uri": "https://localhost:8080/"
        },
        "id": "SSgeRasskP7E",
        "outputId": "f563598e-16c9-4f88-e641-c713de4cd50d"
      },
      "execution_count": 5,
      "outputs": [
        {
          "output_type": "stream",
          "name": "stdout",
          "text": [
            "Q1: 6.5\n",
            "Q2 (Median): 7.0\n",
            "Q3: 9.25\n",
            "IQR: 2.75\n"
          ]
        }
      ]
    },
    {
      "cell_type": "code",
      "source": [
        "def z_score_normalization(lst):\n",
        "    mean_val = sum(lst) / len(lst)\n",
        "    std_val = (sum((x - mean_val) ** 2 for x in lst) / len(lst)) ** 0.5\n",
        "    return [(x - mean_val) / std_val for x in lst]\n",
        "\n",
        "sample_list = [10, 20, 30, 40, 50]\n",
        "z_scores = z_score_normalization(sample_list)\n",
        "print(\"Z-Scores:\", z_scores)\n"
      ],
      "metadata": {
        "colab": {
          "base_uri": "https://localhost:8080/"
        },
        "id": "2FMVyOw5kSN4",
        "outputId": "a6f8db12-f347-4cd2-a89f-32b041be7411"
      },
      "execution_count": 6,
      "outputs": [
        {
          "output_type": "stream",
          "name": "stdout",
          "text": [
            "Z-Scores: [-1.414213562373095, -0.7071067811865475, 0.0, 0.7071067811865475, 1.414213562373095]\n"
          ]
        }
      ]
    },
    {
      "cell_type": "code",
      "source": [
        "import numpy as np\n",
        "import random\n",
        "\n",
        "data_ma = [random.randint(1, 100) for _ in range(20)]\n",
        "print(\"Data:\", data_ma)\n",
        "\n",
        "# Manual moving average\n",
        "moving_avg_manual = [sum(data_ma[i:i+3]) / 3 for i in range(len(data_ma) - 2)]\n",
        "print(\"Manual Moving Average:\", moving_avg_manual)\n",
        "\n",
        "# NumPy moving average\n",
        "moving_avg_numpy = np.convolve(data_ma, np.ones(3)/3, mode='valid')\n",
        "print(\"NumPy Moving Average:\", moving_avg_numpy)\n"
      ],
      "metadata": {
        "colab": {
          "base_uri": "https://localhost:8080/"
        },
        "id": "64HEnUwEkU8H",
        "outputId": "eac416e4-43ca-4118-a17e-f1939e26e0b5"
      },
      "execution_count": 7,
      "outputs": [
        {
          "output_type": "stream",
          "name": "stdout",
          "text": [
            "Data: [94, 28, 6, 15, 100, 90, 95, 93, 46, 37, 90, 70, 53, 69, 30, 37, 35, 44, 5, 51]\n",
            "Manual Moving Average: [42.666666666666664, 16.333333333333332, 40.333333333333336, 68.33333333333333, 95.0, 92.66666666666667, 78.0, 58.666666666666664, 57.666666666666664, 65.66666666666667, 71.0, 64.0, 50.666666666666664, 45.333333333333336, 34.0, 38.666666666666664, 28.0, 33.333333333333336]\n",
            "NumPy Moving Average: [42.66666667 16.33333333 40.33333333 68.33333333 95.         92.66666667\n",
            " 78.         58.66666667 57.66666667 65.66666667 71.         64.\n",
            " 50.66666667 45.33333333 34.         38.66666667 28.         33.33333333]\n"
          ]
        }
      ]
    },
    {
      "cell_type": "code",
      "source": [
        "import numpy as np\n",
        "import random\n",
        "\n",
        "data_outliers = [random.randint(1, 50) for _ in range(25)] + [300, 400]\n",
        "print(\"Data:\", data_outliers)\n",
        "\n",
        "Q1 = np.percentile(data_outliers, 25)\n",
        "Q3 = np.percentile(data_outliers, 75)\n",
        "IQR = Q3 - Q1\n",
        "\n",
        "lower_bound = Q1 - 1.5 * IQR\n",
        "upper_bound = Q3 + 1.5 * IQR\n",
        "\n",
        "outliers = [x for x in data_outliers if x < lower_bound or x > upper_bound]\n",
        "print(\"Outliers:\", outliers)\n"
      ],
      "metadata": {
        "colab": {
          "base_uri": "https://localhost:8080/"
        },
        "id": "-Wibe27FkXuK",
        "outputId": "50e5d221-3306-4456-dffe-d45d65662fca"
      },
      "execution_count": 8,
      "outputs": [
        {
          "output_type": "stream",
          "name": "stdout",
          "text": [
            "Data: [46, 17, 31, 29, 34, 2, 33, 23, 24, 36, 23, 13, 6, 14, 34, 39, 41, 18, 18, 9, 34, 18, 25, 4, 1, 300, 400]\n",
            "Outliers: [300, 400]\n"
          ]
        }
      ]
    },
    {
      "cell_type": "code",
      "source": [],
      "metadata": {
        "id": "UMF3wvhrkanU"
      },
      "execution_count": null,
      "outputs": []
    }
  ]
}